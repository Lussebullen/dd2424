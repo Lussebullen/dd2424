{
 "cells": [
  {
   "cell_type": "code",
   "execution_count": 157,
   "metadata": {},
   "outputs": [],
   "source": [
    "import numpy as np"
   ]
  },
  {
   "cell_type": "markdown",
   "metadata": {},
   "source": [
    "# Read in and prepare text data"
   ]
  },
  {
   "cell_type": "code",
   "execution_count": 158,
   "metadata": {},
   "outputs": [],
   "source": [
    "with open(\"goblet_book.txt\", \"r\") as f:\n",
    "    data = f.read()\n",
    "\n",
    "book_chars = list(set(data))\n",
    "K = len(book_chars)\n",
    "\n",
    "charToInd = {c:i for i,c in enumerate(book_chars)}\n",
    "indToChar = {i:c for i,c in enumerate(book_chars)}"
   ]
  },
  {
   "cell_type": "code",
   "execution_count": 159,
   "metadata": {},
   "outputs": [],
   "source": [
    "def toString(encoded_text):\n",
    "    return ''.join([indToChar[i] for i in encoded_text])"
   ]
  },
  {
   "cell_type": "code",
   "execution_count": 160,
   "metadata": {},
   "outputs": [],
   "source": [
    "def oneHotEncode(x):\n",
    "    Y = np.zeros((K, len(x)))\n",
    "    for i,c in enumerate(x):\n",
    "        Y[charToInd[c],i] = 1\n",
    "    return Y"
   ]
  },
  {
   "cell_type": "code",
   "execution_count": 161,
   "metadata": {},
   "outputs": [],
   "source": [
    "class RNN():\n",
    "    def __init__(self, K, m=100, seed=123456789):\n",
    "        np.random.seed(seed)\n",
    "\n",
    "        self.K = K\n",
    "        self.m = m\n",
    "        self.sigma = 0.01\n",
    "\n",
    "        self.weights = {}\n",
    "        self.momentum = {}\n",
    "        \n",
    "        # Biases\n",
    "        self.weights[\"b\"] = np.zeros(shape=(self.m,1))\n",
    "        self.weights[\"c\"] = np.zeros(shape=(K,1))\n",
    "\n",
    "        # Weights\n",
    "        self.weights[\"U\"] = np.random.randn(self.m, self.K) * self.sigma\n",
    "        self.weights[\"W\"] = np.random.randn(self.m, self.m) * self.sigma\n",
    "        self.weights[\"V\"] = np.random.randn(self.K, self.m) * self.sigma\n",
    "\n",
    "        # Momentum\n",
    "        for key, value in self.weights.items():\n",
    "            self.momentum[key] = np.zeros(value.shape)\n",
    "\n",
    "        # Set initial hidden state\n",
    "        self.h0 = np.zeros(shape=(self.m,1))\n",
    "    \n",
    "    def synth(self, x0, n):\n",
    "\n",
    "        h = self.h0\n",
    "        x = x0\n",
    "\n",
    "        for i in range(n):\n",
    "            t1 = self.weights[\"W\"] @ h\n",
    "            t2 = self.weights[\"U\"] @ x[:,-1].reshape(-1,1)\n",
    "            a = t1 + t2 + self.weights[\"b\"]\n",
    "            h = np.tanh(a)\n",
    "            o = self.weights[\"V\"] @ h + self.weights[\"c\"]\n",
    "            p = np.exp(o) / np.sum(np.exp(o), axis=0)\n",
    "            idx = np.random.choice(range(self.K),p=np.squeeze(p))\n",
    "            newX = np.zeros(shape=(self.K,1))\n",
    "            newX[idx,0] = 1\n",
    "            x = np.c_[x,newX]\n",
    "        \n",
    "        return [np.argmax(c) for c in x.T]\n",
    "            \n",
    "        \n",
    "\n",
    "\n"
   ]
  },
  {
   "cell_type": "code",
   "execution_count": 162,
   "metadata": {},
   "outputs": [],
   "source": [
    "m = 100\n",
    "eta = 0.1\n",
    "seq_length = 25"
   ]
  },
  {
   "cell_type": "code",
   "execution_count": 163,
   "metadata": {},
   "outputs": [],
   "source": [
    "x = oneHotEncode([\"a\"])\n",
    "model = RNN(K, m)"
   ]
  },
  {
   "cell_type": "code",
   "execution_count": 164,
   "metadata": {},
   "outputs": [
    {
     "data": {
      "text/plain": [
       "'a \\t9xj)cLc0/T2d•./2qJ'"
      ]
     },
     "execution_count": 164,
     "metadata": {},
     "output_type": "execute_result"
    }
   ],
   "source": [
    "toString(model.synth(x, 20))"
   ]
  }
 ],
 "metadata": {
  "kernelspec": {
   "display_name": ".venv",
   "language": "python",
   "name": "python3"
  },
  "language_info": {
   "codemirror_mode": {
    "name": "ipython",
    "version": 3
   },
   "file_extension": ".py",
   "mimetype": "text/x-python",
   "name": "python",
   "nbconvert_exporter": "python",
   "pygments_lexer": "ipython3",
   "version": "3.12.3"
  }
 },
 "nbformat": 4,
 "nbformat_minor": 2
}
