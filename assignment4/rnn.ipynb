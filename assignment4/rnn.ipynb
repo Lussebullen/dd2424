{
 "cells": [
  {
   "cell_type": "code",
   "execution_count": 16,
   "metadata": {},
   "outputs": [],
   "source": [
    "import numpy as np"
   ]
  },
  {
   "cell_type": "markdown",
   "metadata": {},
   "source": [
    "# Read in and prepare text data"
   ]
  },
  {
   "cell_type": "code",
   "execution_count": 14,
   "metadata": {},
   "outputs": [],
   "source": [
    "with open(\"goblet_book.txt\", \"r\") as f:\n",
    "    data = f.read()\n",
    "\n",
    "book_chars = list(set(data))\n",
    "K = len(book_chars)"
   ]
  },
  {
   "cell_type": "code",
   "execution_count": 15,
   "metadata": {},
   "outputs": [],
   "source": [
    "charToInd = {c:i for i,c in enumerate(book_chars)}\n",
    "indToChar = book_chars"
   ]
  },
  {
   "cell_type": "code",
   "execution_count": null,
   "metadata": {},
   "outputs": [],
   "source": [
    "class RNN():\n",
    "    def __init__(self, m=100, seed=123456789):\n",
    "        np.random.seed(seed)\n",
    "\n",
    "        self.m = m\n",
    "        self.sigma = 0.01\n",
    "\n",
    "        # Biases\n",
    "        self.b = np.zeros(shape=(self.m,1))\n",
    "        self.c = np.zeros(shape=(K,1))\n",
    "\n",
    "        # Weights\n",
    "        self.U = np.random.normal(shape=(self.m,K)) * self.sigma\n",
    "        self.W = np.random.normal(shape=(self.m,m)) * self.sigma\n",
    "        self.V = np.random.normal(shape=(self.K,m)) * self.sigma\n",
    "    \n",
    "    def synth(self, h0, x0, n):\n",
    "\n",
    "        h = h0\n",
    "        x = [x0]\n",
    "\n",
    "        idxList = np.zeros(n)\n",
    "\n",
    "        for i in range(n):\n",
    "            a = self.W @ h + self.U @ x[-1] + self.b\n",
    "            h = np.tanh(a)\n",
    "            o = self.V @ h + self.c\n",
    "            p = np.exp(o) / sum(np.exp(o))\n",
    "            idx = np.random.choice(range(K),p=p)\n",
    "            newX = np.zeros(K)\n",
    "            newX[idx] = 1\n",
    "            x.append(newX)\n",
    "        \n",
    "        return [np.argmax(c) for c in x]\n",
    "            \n",
    "        \n",
    "\n",
    "\n"
   ]
  },
  {
   "cell_type": "code",
   "execution_count": 17,
   "metadata": {},
   "outputs": [
    {
     "data": {
      "text/plain": [
       "7.38905609893065"
      ]
     },
     "execution_count": 17,
     "metadata": {},
     "output_type": "execute_result"
    }
   ],
   "source": [
    "np.exp(2)"
   ]
  },
  {
   "cell_type": "code",
   "execution_count": null,
   "metadata": {},
   "outputs": [],
   "source": [
    "eta = 0.1\n",
    "seq_length = 25"
   ]
  }
 ],
 "metadata": {
  "kernelspec": {
   "display_name": ".venv",
   "language": "python",
   "name": "python3"
  },
  "language_info": {
   "codemirror_mode": {
    "name": "ipython",
    "version": 3
   },
   "file_extension": ".py",
   "mimetype": "text/x-python",
   "name": "python",
   "nbconvert_exporter": "python",
   "pygments_lexer": "ipython3",
   "version": "3.11.8"
  }
 },
 "nbformat": 4,
 "nbformat_minor": 2
}
